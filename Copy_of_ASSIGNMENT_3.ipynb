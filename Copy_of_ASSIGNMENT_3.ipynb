{
  "nbformat": 4,
  "nbformat_minor": 0,
  "metadata": {
    "colab": {
      "provenance": [],
      "authorship_tag": "ABX9TyP6UIQHx0kqMVaf77BpFIQV",
      "include_colab_link": true
    },
    "kernelspec": {
      "name": "python3",
      "display_name": "Python 3"
    },
    "language_info": {
      "name": "python"
    }
  },
  "cells": [
    {
      "cell_type": "markdown",
      "metadata": {
        "id": "view-in-github",
        "colab_type": "text"
      },
      "source": [
        "<a href=\"https://colab.research.google.com/github/iquu789/ASSIGNMENT-3/blob/main/Copy_of_ASSIGNMENT_3.ipynb\" target=\"_parent\"><img src=\"https://colab.research.google.com/assets/colab-badge.svg\" alt=\"Open In Colab\"/></a>"
      ]
    },
    {
      "cell_type": "markdown",
      "source": [
        "**Tasks and Questions**\n",
        "1.\tAccuracy Metrics Calculation\n",
        "•\tTask: Train a classification model on a dataset of your choice and calculate the following metrics on the test set:\n",
        "•\tAccuracy\n",
        "•\tPrecision\n",
        "•\tRecall\n",
        "•\tF1-Score\n",
        "\n",
        "\t**Question: What are the calculated values for accuracy, precision, recall, and F1-score? What do these metrics tell you about your model's performance?**\n"
      ],
      "metadata": {
        "id": "_GuNC6mCNk5d"
      }
    },
    {
      "cell_type": "code",
      "source": [],
      "metadata": {
        "id": "FA9XAi8kgMS0"
      },
      "execution_count": null,
      "outputs": []
    },
    {
      "cell_type": "markdown",
      "source": [
        "# **ANSWER**\n",
        "\n",
        "To train a classification model and calculate the specified metrics, we'll follow these steps:\n",
        "\n",
        "Select a dataset.   \n",
        "\n",
        "Preprocess the data.\n",
        "\n",
        "Split the data into training and test sets.\n",
        "\n",
        "Train a classification model.\n",
        "\n",
        "Evaluate the model using accuracy, precision, recall, and F1-score.\n",
        "\n",
        "\n",
        "\n"
      ],
      "metadata": {
        "id": "L1g7rfzrOAp2"
      }
    },
    {
      "cell_type": "markdown",
      "source": [
        "# **Iris dataset from the UCI Machine Learning Repository for this task.**\n"
      ],
      "metadata": {
        "id": "9vdtRgC9Oebe"
      }
    },
    {
      "cell_type": "markdown",
      "source": [
        "# **Load the data set:**"
      ],
      "metadata": {
        "id": "Or9V1CrfO8hB"
      }
    },
    {
      "cell_type": "code",
      "source": [
        "from sklearn.datasets import load_iris\n",
        "import pandas as pd\n",
        "\n",
        "# Load the Iris dataset\n",
        "iris = load_iris()\n",
        "df = pd.DataFrame(iris.data, columns=iris.feature_names)\n",
        "df['species'] = iris.target"
      ],
      "metadata": {
        "id": "NUGegzlCPEsd"
      },
      "execution_count": 1,
      "outputs": []
    },
    {
      "cell_type": "markdown",
      "source": [
        "# **Split the data:**"
      ],
      "metadata": {
        "id": "ablFRKjhPHwF"
      }
    },
    {
      "cell_type": "code",
      "source": [
        "from sklearn.model_selection import train_test_split\n",
        "\n",
        "# Split the dataset into training and testing sets\n",
        "X = df.drop('species', axis=1)\n",
        "y = df['species']\n",
        "X_train, X_test, y_train, y_test = train_test_split(X, y, test_size=0.2, random_state=42)"
      ],
      "metadata": {
        "id": "EPJMV80sPU55"
      },
      "execution_count": 2,
      "outputs": []
    },
    {
      "cell_type": "markdown",
      "source": [
        "# **Train a classification model:**"
      ],
      "metadata": {
        "id": "pKwk1gArPcE_"
      }
    },
    {
      "cell_type": "code",
      "source": [
        "from sklearn.ensemble import RandomForestClassifier\n",
        "\n",
        "# Train the Random Forest classifier\n",
        "model = RandomForestClassifier(random_state=42)\n",
        "model.fit(X_train, y_train)"
      ],
      "metadata": {
        "colab": {
          "base_uri": "https://localhost:8080/",
          "height": 75
        },
        "id": "cfUngPYyPd0S",
        "outputId": "521f5dd0-6296-471d-a13b-1f4eb42f8f8a"
      },
      "execution_count": 3,
      "outputs": [
        {
          "output_type": "execute_result",
          "data": {
            "text/plain": [
              "RandomForestClassifier(random_state=42)"
            ],
            "text/html": [
              "<style>#sk-container-id-1 {color: black;background-color: white;}#sk-container-id-1 pre{padding: 0;}#sk-container-id-1 div.sk-toggleable {background-color: white;}#sk-container-id-1 label.sk-toggleable__label {cursor: pointer;display: block;width: 100%;margin-bottom: 0;padding: 0.3em;box-sizing: border-box;text-align: center;}#sk-container-id-1 label.sk-toggleable__label-arrow:before {content: \"▸\";float: left;margin-right: 0.25em;color: #696969;}#sk-container-id-1 label.sk-toggleable__label-arrow:hover:before {color: black;}#sk-container-id-1 div.sk-estimator:hover label.sk-toggleable__label-arrow:before {color: black;}#sk-container-id-1 div.sk-toggleable__content {max-height: 0;max-width: 0;overflow: hidden;text-align: left;background-color: #f0f8ff;}#sk-container-id-1 div.sk-toggleable__content pre {margin: 0.2em;color: black;border-radius: 0.25em;background-color: #f0f8ff;}#sk-container-id-1 input.sk-toggleable__control:checked~div.sk-toggleable__content {max-height: 200px;max-width: 100%;overflow: auto;}#sk-container-id-1 input.sk-toggleable__control:checked~label.sk-toggleable__label-arrow:before {content: \"▾\";}#sk-container-id-1 div.sk-estimator input.sk-toggleable__control:checked~label.sk-toggleable__label {background-color: #d4ebff;}#sk-container-id-1 div.sk-label input.sk-toggleable__control:checked~label.sk-toggleable__label {background-color: #d4ebff;}#sk-container-id-1 input.sk-hidden--visually {border: 0;clip: rect(1px 1px 1px 1px);clip: rect(1px, 1px, 1px, 1px);height: 1px;margin: -1px;overflow: hidden;padding: 0;position: absolute;width: 1px;}#sk-container-id-1 div.sk-estimator {font-family: monospace;background-color: #f0f8ff;border: 1px dotted black;border-radius: 0.25em;box-sizing: border-box;margin-bottom: 0.5em;}#sk-container-id-1 div.sk-estimator:hover {background-color: #d4ebff;}#sk-container-id-1 div.sk-parallel-item::after {content: \"\";width: 100%;border-bottom: 1px solid gray;flex-grow: 1;}#sk-container-id-1 div.sk-label:hover label.sk-toggleable__label {background-color: #d4ebff;}#sk-container-id-1 div.sk-serial::before {content: \"\";position: absolute;border-left: 1px solid gray;box-sizing: border-box;top: 0;bottom: 0;left: 50%;z-index: 0;}#sk-container-id-1 div.sk-serial {display: flex;flex-direction: column;align-items: center;background-color: white;padding-right: 0.2em;padding-left: 0.2em;position: relative;}#sk-container-id-1 div.sk-item {position: relative;z-index: 1;}#sk-container-id-1 div.sk-parallel {display: flex;align-items: stretch;justify-content: center;background-color: white;position: relative;}#sk-container-id-1 div.sk-item::before, #sk-container-id-1 div.sk-parallel-item::before {content: \"\";position: absolute;border-left: 1px solid gray;box-sizing: border-box;top: 0;bottom: 0;left: 50%;z-index: -1;}#sk-container-id-1 div.sk-parallel-item {display: flex;flex-direction: column;z-index: 1;position: relative;background-color: white;}#sk-container-id-1 div.sk-parallel-item:first-child::after {align-self: flex-end;width: 50%;}#sk-container-id-1 div.sk-parallel-item:last-child::after {align-self: flex-start;width: 50%;}#sk-container-id-1 div.sk-parallel-item:only-child::after {width: 0;}#sk-container-id-1 div.sk-dashed-wrapped {border: 1px dashed gray;margin: 0 0.4em 0.5em 0.4em;box-sizing: border-box;padding-bottom: 0.4em;background-color: white;}#sk-container-id-1 div.sk-label label {font-family: monospace;font-weight: bold;display: inline-block;line-height: 1.2em;}#sk-container-id-1 div.sk-label-container {text-align: center;}#sk-container-id-1 div.sk-container {/* jupyter's `normalize.less` sets `[hidden] { display: none; }` but bootstrap.min.css set `[hidden] { display: none !important; }` so we also need the `!important` here to be able to override the default hidden behavior on the sphinx rendered scikit-learn.org. See: https://github.com/scikit-learn/scikit-learn/issues/21755 */display: inline-block !important;position: relative;}#sk-container-id-1 div.sk-text-repr-fallback {display: none;}</style><div id=\"sk-container-id-1\" class=\"sk-top-container\"><div class=\"sk-text-repr-fallback\"><pre>RandomForestClassifier(random_state=42)</pre><b>In a Jupyter environment, please rerun this cell to show the HTML representation or trust the notebook. <br />On GitHub, the HTML representation is unable to render, please try loading this page with nbviewer.org.</b></div><div class=\"sk-container\" hidden><div class=\"sk-item\"><div class=\"sk-estimator sk-toggleable\"><input class=\"sk-toggleable__control sk-hidden--visually\" id=\"sk-estimator-id-1\" type=\"checkbox\" checked><label for=\"sk-estimator-id-1\" class=\"sk-toggleable__label sk-toggleable__label-arrow\">RandomForestClassifier</label><div class=\"sk-toggleable__content\"><pre>RandomForestClassifier(random_state=42)</pre></div></div></div></div></div>"
            ]
          },
          "metadata": {},
          "execution_count": 3
        }
      ]
    },
    {
      "cell_type": "markdown",
      "source": [
        "# **Evaluate the model:**"
      ],
      "metadata": {
        "id": "55J_TItJPo_M"
      }
    },
    {
      "cell_type": "code",
      "source": [
        "from sklearn.metrics import accuracy_score, precision_score, recall_score, f1_score\n",
        "\n",
        "# Make predictions on the test set\n",
        "y_pred = model.predict(X_test)\n",
        "\n",
        "# Calculate the metrics\n",
        "accuracy = accuracy_score(y_test, y_pred)\n",
        "precision = precision_score(y_test, y_pred, average='weighted')\n",
        "recall = recall_score(y_test, y_pred, average='weighted')\n",
        "f1 = f1_score(y_test, y_pred, average='weighted')\n",
        "\n",
        "accuracy, precision, recall, f1"
      ],
      "metadata": {
        "colab": {
          "base_uri": "https://localhost:8080/"
        },
        "id": "Rn7k0GuoPq6m",
        "outputId": "85029c27-968d-4d54-bf94-71b14429f2f7"
      },
      "execution_count": 4,
      "outputs": [
        {
          "output_type": "execute_result",
          "data": {
            "text/plain": [
              "(1.0, 1.0, 1.0, 1.0)"
            ]
          },
          "metadata": {},
          "execution_count": 4
        }
      ]
    },
    {
      "cell_type": "markdown",
      "source": [
        "**Calculated Values:**\n",
        "\n",
        "Accuracy: 1.0\n",
        "\n",
        "Precision: 1.0\n",
        "\n",
        "Recall: 1.0\n",
        "\n",
        "F1-Score: 1.0"
      ],
      "metadata": {
        "id": "qJzFzzOBQHOw"
      }
    },
    {
      "cell_type": "markdown",
      "source": [
        "# **2.\tConfusion Matrix Interpretation**\n",
        "\n",
        "**•\tTask:**\n",
        "\n",
        " Create a confusion matrix for your classification model on the test set.\n",
        "\n",
        "**•\tQuestion: Present the confusion matrix and explain what each value represents. How does the confusion matrix help in understanding the model's performance?**\n"
      ],
      "metadata": {
        "id": "DCwCQb7vPzMq"
      }
    },
    {
      "cell_type": "markdown",
      "source": [
        "# **ANSWER:**\n",
        "To create and interpret a confusion matrix for our classification model, we'll follow these steps:\n",
        "\n",
        "Generate the confusion matrix.\n",
        "\n",
        "Present the confusion matrix.\n",
        "\n",
        "Explain what each value represents.\n",
        "\n",
        "Discuss how the confusion matrix helps in understanding the model's performance."
      ],
      "metadata": {
        "id": "0O4XCv2FQBMR"
      }
    },
    {
      "cell_type": "markdown",
      "source": [
        "# **Generate the confusion matrix:**"
      ],
      "metadata": {
        "id": "lJnZ9IWHQlA7"
      }
    },
    {
      "cell_type": "code",
      "source": [
        "from sklearn.metrics import confusion_matrix\n",
        "\n",
        "# Generate the confusion matrix\n",
        "conf_matrix = confusion_matrix(y_test, y_pred)\n",
        "conf_matrix"
      ],
      "metadata": {
        "colab": {
          "base_uri": "https://localhost:8080/"
        },
        "id": "zKyDYD_8Qmt2",
        "outputId": "7ae92933-3fa9-4c4f-824d-d7e6be10adf7"
      },
      "execution_count": 5,
      "outputs": [
        {
          "output_type": "execute_result",
          "data": {
            "text/plain": [
              "array([[10,  0,  0],\n",
              "       [ 0,  9,  0],\n",
              "       [ 0,  0, 11]])"
            ]
          },
          "metadata": {},
          "execution_count": 5
        }
      ]
    },
    {
      "cell_type": "markdown",
      "source": [
        "# **Present the confusion matrix:**"
      ],
      "metadata": {
        "id": "JpaV6hmCQux7"
      }
    },
    {
      "cell_type": "code",
      "source": [
        "from sklearn.datasets import load_iris\n",
        "import pandas as pd\n",
        "from sklearn.model_selection import train_test_split\n",
        "from sklearn.ensemble import RandomForestClassifier\n",
        "from sklearn.metrics import confusion_matrix\n",
        "\n",
        "# Load the Iris dataset\n",
        "iris = load_iris()\n",
        "df = pd.DataFrame(iris.data, columns=iris.feature_names)\n",
        "df['species'] = iris.target\n",
        "\n",
        "# Split the dataset into training and testing sets\n",
        "X = df.drop('species', axis=1)\n",
        "y = df['species']\n",
        "X_train, X_test, y_train, y_test = train_test_split(X, y, test_size=0.2, random_state=42)\n",
        "\n",
        "# Train the Random Forest classifier\n",
        "model = RandomForestClassifier(random_state=42)\n",
        "model.fit(X_train, y_train)\n",
        "\n",
        "# Make predictions on the test set\n",
        "y_pred = model.predict(X_test)\n",
        "\n",
        "# Generate the confusion matrix\n",
        "conf_matrix = confusion_matrix(y_test, y_pred)\n",
        "conf_matrix"
      ],
      "metadata": {
        "colab": {
          "base_uri": "https://localhost:8080/"
        },
        "id": "tFjVCDvLQxeD",
        "outputId": "bf9abf6a-32ba-45b8-cf8d-3d106a8f017b"
      },
      "execution_count": 6,
      "outputs": [
        {
          "output_type": "execute_result",
          "data": {
            "text/plain": [
              "array([[10,  0,  0],\n",
              "       [ 0,  9,  0],\n",
              "       [ 0,  0, 11]])"
            ]
          },
          "metadata": {},
          "execution_count": 6
        }
      ]
    },
    {
      "cell_type": "markdown",
      "source": [
        "# **How the Confusion Matrix Helps in Understanding the Model's Performance:**\n",
        "\n",
        "The confusion matrix provides a detailed breakdown of how the classification model is performing on each class:\n",
        "\n",
        "\n",
        "True Positives (TP): Correctly predicted instances for each class.\n",
        "\n",
        "False Positives (FP): Instances incorrectly predicted as a different class.\n",
        "\n",
        "False Negatives (FN): Instances of a class incorrectly predicted as another\n",
        "class.\n",
        "\n",
        "True Negatives (TN): Instances correctly identified as not belonging to a specific class."
      ],
      "metadata": {
        "id": "KXCUt5-AQ7M1"
      }
    },
    {
      "cell_type": "markdown",
      "source": [
        "# **3.\tROC/AUC Calculation**\n",
        "•\tTask: Plot the ROC curve and calculate the AUC for your classification model on the test set.\n",
        "\n",
        "**•\tQuestion: What does the ROC curve look like? What is the AUC value? How do these metrics help in evaluating your model's performance?**\n"
      ],
      "metadata": {
        "id": "XkflmVxkRTsY"
      }
    },
    {
      "cell_type": "markdown",
      "source": [
        "# **ANSWER:**\n",
        "\n",
        "**Plotting ROC Curve and Calculating AUC**\n",
        "\n",
        "Let's assume we have a binary classifier and test data. We'll use Python and libraries like scikit-learn to plot the ROC curve and calculate the AUC."
      ],
      "metadata": {
        "id": "zQ-xQBvFRaIz"
      }
    },
    {
      "cell_type": "code",
      "source": [
        "import numpy as np\n",
        "import matplotlib.pyplot as plt\n",
        "from sklearn.metrics import roc_curve, roc_auc_score\n",
        "\n",
        "# Example true labels and predicted probabilities\n",
        "y_true = np.array([0, 0, 1, 1])\n",
        "y_scores = np.array([0.1, 0.4, 0.35, 0.8])\n",
        "\n",
        "# Calculate the ROC curve\n",
        "fpr, tpr, thresholds = roc_curve(y_true, y_scores)\n",
        "\n",
        "# Calculate the AUC\n",
        "auc = roc_auc_score(y_true, y_scores)\n",
        "\n",
        "# Plot the ROC curve\n",
        "plt.figure()\n",
        "plt.plot(fpr, tpr, color='blue', lw=2, label='ROC curve (AUC = %0.2f)' % auc)\n",
        "plt.plot([0, 1], [0, 1], color='gray', lw=2, linestyle='--')\n",
        "plt.xlim([0.0, 1.0])\n",
        "plt.ylim([0.0, 1.0])\n",
        "plt.xlabel('False Positive Rate')\n",
        "plt.ylabel('True Positive Rate')\n",
        "plt.title('Receiver Operating Characteristic (ROC) Curve')\n",
        "plt.legend(loc=\"lower right\")\n",
        "plt.show()\n",
        "\n",
        "print(f\"AUC: {auc}\")"
      ],
      "metadata": {
        "colab": {
          "base_uri": "https://localhost:8080/",
          "height": 489
        },
        "id": "GabTWZ3LRmJR",
        "outputId": "2cbf424f-e800-4a18-85db-ef2ee75e7dd5"
      },
      "execution_count": 7,
      "outputs": [
        {
          "output_type": "display_data",
          "data": {
            "text/plain": [
              "<Figure size 640x480 with 1 Axes>"
            ],
            "image/png": "[encoded data removed]"
          },
          "metadata": {}
        },
        {
          "output_type": "stream",
          "name": "stdout",
          "text": [
            "AUC: 0.75\n"
          ]
        }
      ]
    },
    {
      "cell_type": "markdown",
      "source": [
        "# **4.\tCross-Validation Reporting**\n",
        "\n",
        "•\tTask: Perform k-fold cross-validation (e.g., k=5) for your classification model and report the mean and standard deviation of the accuracy.\n",
        "\n",
        "•\tQuestion: What are the mean and standard deviation of the cross-validation accuracy? Why is cross-validation important in model evaluation?\n",
        "**bold text**"
      ],
      "metadata": {
        "id": "PjxuA3ATRtuW"
      }
    },
    {
      "cell_type": "markdown",
      "source": [
        "**Model Preparation:**\n",
        "\n",
        "First, we need a dataset and a classification model.\n",
        "For this example, we'll use a sample dataset and a simple classification model (e.g., Logistic Regression).\n",
        "\n",
        "**K-Fold Cross-Validation:**\n",
        "\n",
        "We'll perform k-fold cross-validation with\n",
        "𝑘=5This means the dataset will be split into 5 equal parts. The model will be trained on 4 parts and tested on the remaining part. This process will be repeated 5 times, each time with a different part as the test set.\n",
        "\n",
        "**Evaluation:**\n",
        "\n",
        "For each iteration, we'll calculate the accuracy. Then, we'll compute the mean and standard deviation of these accuracies."
      ],
      "metadata": {
        "id": "lYdEKYX2R0JV"
      }
    },
    {
      "cell_type": "code",
      "source": [
        "import numpy as np\n",
        "from sklearn.datasets import load_iris\n",
        "from sklearn.linear_model import LogisticRegression\n",
        "from sklearn.model_selection import cross_val_score\n",
        "\n",
        "# Load sample dataset\n",
        "data = load_iris()\n",
        "X, y = data.data, data.target\n",
        "\n",
        "# Initialize the model\n",
        "model = LogisticRegression(max_iter=200)\n",
        "\n",
        "# Perform 5-fold cross-validation\n",
        "k = 5\n",
        "scores = cross_val_score(model, X, y, cv=k, scoring='accuracy')\n",
        "\n",
        "# Calculate mean and standard deviation of the accuracy\n",
        "mean_accuracy = np.mean(scores)\n",
        "std_accuracy = np.std(scores)\n",
        "\n",
        "mean_accuracy, std_accuracy"
      ],
      "metadata": {
        "colab": {
          "base_uri": "https://localhost:8080/"
        },
        "id": "unmHmcR8UIar",
        "outputId": "a8b0d2d5-066d-4bee-ff2b-f7fabfcacbe4"
      },
      "execution_count": 8,
      "outputs": [
        {
          "output_type": "execute_result",
          "data": {
            "text/plain": [
              "(0.9733333333333334, 0.02494438257849294)"
            ]
          },
          "metadata": {},
          "execution_count": 8
        }
      ]
    }
  ]
}